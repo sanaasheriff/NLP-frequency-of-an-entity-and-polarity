{
 "cells": [
  {
   "cell_type": "code",
   "execution_count": 2,
   "metadata": {
    "_cell_guid": "b1076dfc-b9ad-4769-8c92-a6c4dae69d19",
    "_uuid": "8f2839f25d086af736a60e9eeb907d3b93b6e0e5",
    "execution": {
     "iopub.execute_input": "2022-07-30T20:47:22.419739Z",
     "iopub.status.busy": "2022-07-30T20:47:22.419518Z",
     "iopub.status.idle": "2022-07-30T20:47:34.153354Z",
     "shell.execute_reply": "2022-07-30T20:47:34.152598Z",
     "shell.execute_reply.started": "2022-07-30T20:47:22.419711Z"
    },
    "scrolled": true
   },
   "outputs": [],
   "source": [
    "import pandas as pd"
   ]
  },
  {
   "cell_type": "code",
   "execution_count": 3,
   "metadata": {},
   "outputs": [],
   "source": [
    "from transformers import pipeline"
   ]
  },
  {
   "cell_type": "code",
   "execution_count": 4,
   "metadata": {},
   "outputs": [],
   "source": [
    "from transformers import logging\n",
    "logging.set_verbosity_error()"
   ]
  },
  {
   "cell_type": "code",
   "execution_count": 5,
   "metadata": {
    "execution": {
     "iopub.execute_input": "2022-07-30T20:47:34.155059Z",
     "iopub.status.busy": "2022-07-30T20:47:34.154787Z",
     "iopub.status.idle": "2022-07-30T20:48:38.021657Z",
     "shell.execute_reply": "2022-07-30T20:48:38.020911Z",
     "shell.execute_reply.started": "2022-07-30T20:47:34.155026Z"
    }
   },
   "outputs": [],
   "source": [
    "classifier = pipeline(\"zero-shot-classification\", device=0)"
   ]
  },
  {
   "cell_type": "markdown",
   "metadata": {},
   "source": [
    "## Get the Data"
   ]
  },
  {
   "cell_type": "code",
   "execution_count": 16,
   "metadata": {
    "execution": {
     "iopub.execute_input": "2022-07-30T21:21:27.936073Z",
     "iopub.status.busy": "2022-07-30T21:21:27.935791Z",
     "iopub.status.idle": "2022-07-30T21:21:28.041282Z",
     "shell.execute_reply": "2022-07-30T21:21:28.040567Z",
     "shell.execute_reply.started": "2022-07-30T21:21:27.936043Z"
    }
   },
   "outputs": [],
   "source": [
    "tweets = pd.read_csv('tweets.csv', encoding='ISO-8859-1')"
   ]
  },
  {
   "cell_type": "code",
   "execution_count": 17,
   "metadata": {},
   "outputs": [],
   "source": [
    "df_head = tweets.head(30)"
   ]
  },
  {
   "cell_type": "code",
   "execution_count": 18,
   "metadata": {
    "execution": {
     "iopub.execute_input": "2022-07-30T21:21:32.742607Z",
     "iopub.status.busy": "2022-07-30T21:21:32.742321Z",
     "iopub.status.idle": "2022-07-30T21:21:32.746712Z",
     "shell.execute_reply": "2022-07-30T21:21:32.745910Z",
     "shell.execute_reply.started": "2022-07-30T21:21:32.742575Z"
    }
   },
   "outputs": [],
   "source": [
    "samples = tweets[1:50]"
   ]
  },
  {
   "cell_type": "code",
   "execution_count": 19,
   "metadata": {
    "execution": {
     "iopub.execute_input": "2022-07-30T21:22:19.581910Z",
     "iopub.status.busy": "2022-07-30T21:22:19.581362Z",
     "iopub.status.idle": "2022-07-30T21:22:19.586687Z",
     "shell.execute_reply": "2022-07-30T21:22:19.585519Z",
     "shell.execute_reply.started": "2022-07-30T21:22:19.581875Z"
    }
   },
   "outputs": [],
   "source": [
    "strings = samples.tweet_text.values"
   ]
  },
  {
   "cell_type": "code",
   "execution_count": 20,
   "metadata": {
    "execution": {
     "iopub.execute_input": "2022-07-30T21:22:20.365544Z",
     "iopub.status.busy": "2022-07-30T21:22:20.365276Z",
     "iopub.status.idle": "2022-07-30T21:22:20.370031Z",
     "shell.execute_reply": "2022-07-30T21:22:20.368994Z",
     "shell.execute_reply.started": "2022-07-30T21:22:20.365515Z"
    }
   },
   "outputs": [],
   "source": [
    "sequence = list(strings)"
   ]
  },
  {
   "cell_type": "markdown",
   "metadata": {},
   "source": [
    "# Sentiment analysis"
   ]
  },
  {
   "cell_type": "code",
   "execution_count": 21,
   "metadata": {
    "scrolled": true
   },
   "outputs": [],
   "source": [
    "import torch\n",
    "from GPUtil import showUtilization as gpu_usage\n",
    "from numba import cuda\n",
    "CUDA_LAUNCH_BLOCKING=1\n",
    "torch.cuda.set_device(0)\n",
    "torch.cuda.empty_cache()\n",
    "PYTORCH_CUDA_ALLOC_CONF=max_split_size_mb=2000"
   ]
  },
  {
   "cell_type": "code",
   "execution_count": 22,
   "metadata": {
    "execution": {
     "iopub.execute_input": "2022-07-30T21:22:52.230558Z",
     "iopub.status.busy": "2022-07-30T21:22:52.230282Z",
     "iopub.status.idle": "2022-07-30T21:22:52.235289Z",
     "shell.execute_reply": "2022-07-30T21:22:52.234494Z",
     "shell.execute_reply.started": "2022-07-30T21:22:52.230530Z"
    }
   },
   "outputs": [],
   "source": [
    "sentiment_labels = ['negative','positive']\n"
   ]
  },
  {
   "cell_type": "code",
   "execution_count": 23,
   "metadata": {
    "execution": {
     "iopub.execute_input": "2022-07-30T21:22:53.765931Z",
     "iopub.status.busy": "2022-07-30T21:22:53.765374Z",
     "iopub.status.idle": "2022-07-30T21:22:54.755146Z",
     "shell.execute_reply": "2022-07-30T21:22:54.754386Z",
     "shell.execute_reply.started": "2022-07-30T21:22:53.765895Z"
    },
    "scrolled": false
   },
   "outputs": [],
   "source": [
    "sent = classifier(sequence, sentiment_labels)"
   ]
  },
  {
   "cell_type": "code",
   "execution_count": 24,
   "metadata": {
    "execution": {
     "iopub.execute_input": "2022-07-30T21:22:56.080844Z",
     "iopub.status.busy": "2022-07-30T21:22:56.080561Z",
     "iopub.status.idle": "2022-07-30T21:22:56.092387Z",
     "shell.execute_reply": "2022-07-30T21:22:56.091611Z",
     "shell.execute_reply.started": "2022-07-30T21:22:56.080813Z"
    },
    "scrolled": true
   },
   "outputs": [
    {
     "data": {
      "text/plain": [
       "[{'sequence': 'This phase 2 Acalabrutinib-Venetoclax (AV) trial that is still in recruitment phase will study how well venetoclax and acalabrutinib works in MCL patients who either relapsed or non-respondent to the initial therapy.\\r\\n\\r\\nhttps://t.co/gg0G9At23N',\n",
       "  'labels': ['positive', 'negative'],\n",
       "  'scores': [0.6042463779449463, 0.3957536518573761]},\n",
       " {'sequence': '#NICE backs #AstraZenecas #Calquence for #CLL https://t.co/Vb5lPDoGrA',\n",
       "  'labels': ['positive', 'negative'],\n",
       "  'scores': [0.9937306046485901, 0.006269391160458326]},\n",
       " {'sequence': '#acalabrutinib is a valuable option in pts intolerant to #ibrutinib. Further valuable data to help decision making in #CLL \\r\\n\\r\\nEarly View | Haematologica https://t.co/Z2kCLZaX0D',\n",
       "  'labels': ['positive', 'negative'],\n",
       "  'scores': [0.9003549814224243, 0.09964502602815628]},\n",
       " {'sequence': 'NICE has recommended the use of acalabrutinib for patients with treatment-naÃ¯ve chronic lymphocytic leukemia. Find out more here https://t.co/6OuJptLCIN #lymsm #lymphoma',\n",
       "  'labels': ['positive', 'negative'],\n",
       "  'scores': [0.9020801186561584, 0.09791994094848633]},\n",
       " {'sequence': 'NICE backs AstraZenecaâ\\x80\\x99s Calquence for CLL https://t.co/JOPNLNID5R https://t.co/9pwY4NKP4s',\n",
       "  'labels': ['positive', 'negative'],\n",
       "  'scores': [0.9716182947158813, 0.02838166616857052]},\n",
       " {'sequence': 'This is England for now - these decisions usually come to Wales too. \\r\\nMore info\\r\\n\\r\\n https://t.co/SR5TU0ZSHH https://t.co/OFdwEdlav6',\n",
       "  'labels': ['negative', 'positive'],\n",
       "  'scores': [0.8819918036460876, 0.11800819635391235]},\n",
       " {'sequence': 'AstraZenecaâ\\x80\\x99s Calquence (acalabrutinib), a chemotherapy-free monotherapy, will be offered to patients with chronic lymphocytic #leukaemia.\\r\\n#oncology #drugapprovals #pharma #healthnews\\r\\nFind out more here: https://t.co/qYUft2Cn8b https://t.co/Sxve6NGGX3',\n",
       "  'labels': ['negative', 'positive'],\n",
       "  'scores': [0.7750906944274902, 0.22490932047367096]},\n",
       " {'sequence': 'Superstar @tobyeyre82 responding to the excellent news of NICE approval of acalabrutinib in frontline CLL for FCR / BR unsuitable patients. https://t.co/lACvpOtrWx',\n",
       "  'labels': ['positive', 'negative'],\n",
       "  'scores': [0.9947769641876221, 0.0052230278961360455]},\n",
       " {'sequence': 'CLL patients all know the drug Ibrutinib and yesterday in the UK Acalabrutinib was approved and now a new drug Pirtobrutinib is making a big impact for relapsed patients in recent #clinicaltrials\\r\\n@cancertrials_ie @CllSociety @LAL_NI @BloodCancerIRL\\r\\nhttps://t.co/murr3KPhsZ',\n",
       "  'labels': ['negative', 'positive'],\n",
       "  'scores': [0.8864070773124695, 0.11359290778636932]},\n",
       " {'sequence': 'Optimal Management of High-Risk CLL with Acalabrutinib\\r\\n19 March 2021 | 7.00 pm - 8.30 pm\\r\\n\\r\\nSpeaker 1 - Dr P G Subramanian, Mumbai \\r\\nSpeaker 2 - Group Captain (Dr) Harshit Khurana, Pune\\r\\n\\r\\nChair: Dr S H Advani, Mumbai\\r\\nModerator: Dr M B Agarwal, Mumbai\\r\\n\\r\\nLink: https://t.co/ou2dEMfIcE https://t.co/nvAeDoMRll',\n",
       "  'labels': ['positive', 'negative'],\n",
       "  'scores': [0.6003319025039673, 0.3996681571006775]},\n",
       " {'sequence': 'Acalabrutinib for all forms of CLL, NICE today.get ready  @SwbhPharmacy @StevenShanu @HojanSenya\\r\\n@SWBH_RandD @Oncology_at_AZ https://t.co/pG1GaUtZ5j',\n",
       "  'labels': ['positive', 'negative'],\n",
       "  'scores': [0.9946675896644592, 0.005332393571734428]},\n",
       " {'sequence': 'It has been announced today (Thursday 18th March) that The National Institute for Health and Care Excellence (NICE) have made recommendations for acalabrutinib to become a treatment option for certain groups of chronic lymphocytic leukaemia (CLL) patients in England.',\n",
       "  'labels': ['positive', 'negative'],\n",
       "  'scores': [0.9047694802284241, 0.09523051977157593]},\n",
       " {'sequence': 'NICE has recommended the use of acalabrutinib, as a monotherapy option for adults with:\\r\\nâ\\x80¢a 17pÂ\\xa0deletion or TP53Â\\xa0mutation, or\\r\\nâ\\x80¢no 17pÂ\\xa0deletion or TP53Â\\xa0mutation, and fludarabine plus cyclophosphamide and rituximab (FCR), or bendamustine plus rituximab (BR) is unsuitable. https://t.co/ntYG8VLKyZ',\n",
       "  'labels': ['negative', 'positive'],\n",
       "  'scores': [0.7682220339775085, 0.23177801072597504]},\n",
       " {'sequence': 'A brand new oral treatment, Acalabrutinib, taken as a twice daily tablet, for untreated  blood cancer, chronic lymphocytic leukaemia, has today (Thursday 18 March 2021) been recommended for NHS use by NICE.\\r\\nhttps://t.co/nLoyYbepRA',\n",
       "  'labels': ['positive', 'negative'],\n",
       "  'scores': [0.8596811294555664, 0.1403188854455948]},\n",
       " {'sequence': 'NICE backs AstraZenecaâ\\x80\\x99s Calquence for CLL https://t.co/P6fy1o0mTi',\n",
       "  'labels': ['positive', 'negative'],\n",
       "  'scores': [0.9342212080955505, 0.06577878445386887]},\n",
       " {'sequence': 'NICE backs AstraZenecaâ\\x80\\x99s Calquence for CLL https://t.co/V0wjoKqqTm',\n",
       "  'labels': ['positive', 'negative'],\n",
       "  'scores': [0.9319877028465271, 0.0680123046040535]},\n",
       " {'sequence': 'NICE backs AstraZenecaâ\\x80\\x99s Calquence for CLL https://t.co/8RAQ6sLJIs',\n",
       "  'labels': ['positive', 'negative'],\n",
       "  'scores': [0.9450368285179138, 0.054963186383247375]},\n",
       " {'sequence': 'NICE backs AstraZenecaâ\\x80\\x99s Calquence for CLL https://t.co/hKPfa0IW6N',\n",
       "  'labels': ['positive', 'negative'],\n",
       "  'scores': [0.935929536819458, 0.06407050788402557]},\n",
       " {'sequence': 'NICE backs AstraZenecaâ\\x80\\x99s Calquence for CLL https://t.co/6b1RYaHRxX',\n",
       "  'labels': ['positive', 'negative'],\n",
       "  'scores': [0.9417133927345276, 0.05828661471605301]},\n",
       " {'sequence': 'NICE backs AstraZenecaâ\\x80\\x99s Calquence for CLL https://t.co/FTEaEMFSW7 #pharma #lifesciences',\n",
       "  'labels': ['positive', 'negative'],\n",
       "  'scores': [0.9606379270553589, 0.0393621064722538]},\n",
       " {'sequence': 'New article: Phase 2 study of acalabrutinib in ibrutinib-intolerant patients with relapsed/refractory chronic lymphocytic leukemia https://t.co/osJpzYCezE #CLL #leusm #hematology',\n",
       "  'labels': ['positive', 'negative'],\n",
       "  'scores': [0.8825768828392029, 0.11742310225963593]},\n",
       " {'sequence': 'TARGETED ORAL MONOTHERAPY CALQUENCE (ACALABRUTINIB) RECOMMENDED BY NICE FOR PATIENTS WITH CHRONIC LYMPHOCYTIC LEUKAEMIA (CLL)\\r\\nhttps://t.co/tJ2w5zcKD3\\r\\n#PharmaNews #ClinicalResearchNews #BiotechNews #LifeSciencesNews #MedicalNews #HealthcareNews #PharmiwebNews https://t.co/wYA5UUOJqo',\n",
       "  'labels': ['positive', 'negative'],\n",
       "  'scores': [0.6870538592338562, 0.3129461407661438]},\n",
       " {'sequence': 'As the UK approve new treatments for #CLL with Acalabrutinib now available. Ireland falls far behind.\\r\\nPatients need better options. \\r\\n@JanRynne @DonnellyStephen @HSELive @davidcullinane @hseNCCP @paulreiddublin @IPPOSI @PaulMcauliffe @RoisinShortall https://t.co/tW2zAInOlp',\n",
       "  'labels': ['negative', 'positive'],\n",
       "  'scores': [0.9785569906234741, 0.021442998200654984]},\n",
       " {'sequence': '.@NICEComms backs NHS use for @AstraZenecaâ\\x80\\x99s Calquence for new leukaemia indication, and @DaiichiSankyoâ\\x80\\x99s cholesterol-lowering drugs Nilemdo and Nustendi #heor https://t.co/PqFk7N9pCi',\n",
       "  'labels': ['positive', 'negative'],\n",
       "  'scores': [0.9719392657279968, 0.02806074358522892]},\n",
       " {'sequence': '#Acalabrutinib @NICEComms approved for 1L #CLL in UK\\r\\n- All pts considered unfit for FCR or BR\\r\\n- All pts TP53 mut/del\\r\\n- All relapsed CLL\\r\\n\\r\\nEnjoyed talking about this with @CLLSupport Chair of Trustees Marc Auckland on Sky News this am. \\r\\n\\r\\nGreat news for our #CLL pts! @bloodcancer_uk https://t.co/Sh0iIDgKel',\n",
       "  'labels': ['positive', 'negative'],\n",
       "  'scores': [0.7796826958656311, 0.22031725943088531]},\n",
       " {'sequence': 'Safety and Antitumor Activity of Acalabrutinib for Relapsed/Refractory B-cell Malignancies: A Japanese Phase I Study #lymphoma #lymsm https://t.co/NrxD4YK0zm',\n",
       "  'labels': ['positive', 'negative'],\n",
       "  'scores': [0.8627251982688904, 0.137274831533432]},\n",
       " {'sequence': 'New article: Safety and Antitumor Activity of Acalabrutinib for Relapsed/Refractory B-cell Malignancies: A Japanese Phase I Study https://t.co/iVdJs3l0Z0 #CLL #leusm #hematology',\n",
       "  'labels': ['positive', 'negative'],\n",
       "  'scores': [0.7751097679138184, 0.22489024698734283]},\n",
       " {'sequence': 'Congress| #EBMT21 | @michaelwangmd, @MDAndersonNews, discussed results of the ZUMA-2 study in R/R mantel cell lymphoma by morphology and prior BTKi exposure to ibrutinib and/or acalabrutinib. He concluded that all subgroups drew clinical benefit from KTE-X19 treatment. #lymsm https://t.co/vufXrfRbgD',\n",
       "  'labels': ['positive', 'negative'],\n",
       "  'scores': [0.7968937158584595, 0.20310628414154053]},\n",
       " {'sequence': 'New2Trip: Acalabrutinib (Calquence) for treatment of chronic lymphocytic leukaemia (CLL) https://t.co/mR2qsZwCZX',\n",
       "  'labels': ['positive', 'negative'],\n",
       "  'scores': [0.9185800552368164, 0.08141995221376419]},\n",
       " {'sequence': 'Calquence Commercial Had A REALLY PRETTY Lady In it @CHANEL @TwitterSupport A nurse I think',\n",
       "  'labels': ['positive', 'negative'],\n",
       "  'scores': [0.9693350791931152, 0.03066490963101387]},\n",
       " {'sequence': 'New clinical trial: Acalabrutinib, Umbralisib, and Ublituximab for the Treatment of Previously Untreated Mantle Cell Lymphoma https://t.co/I42benJlRg #MCL #lymsm #hematology',\n",
       "  'labels': ['positive', 'negative'],\n",
       "  'scores': [0.9459292888641357, 0.054070718586444855]},\n",
       " {'sequence': \"'Solidarity negotiated with Astra-Zeneca to test its cancer drug acalabrutinib, which dampens the immune system. Investigators changed treatment protocols to include the medicine, but then the company decided not to give the green light.'\\r\\n\\r\\nhttps://t.co/x65mJlnv42\",\n",
       "  'labels': ['negative', 'positive'],\n",
       "  'scores': [0.9118257761001587, 0.08817420899868011]},\n",
       " {'sequence': 'ICYMI, please view our #ASH20 TiP poster presentation about a new study that will explore the combination of KRT-232 (MDM2i) + acalabrutinib in patients with R/R B-Cell malignancies. https://t.co/g5uOottDLo. Find out more at https://t.co/sgbNXj8zNx #LYMSM #CLL #DLBCL',\n",
       "  'labels': ['positive', 'negative'],\n",
       "  'scores': [0.8039528727531433, 0.19604714214801788]},\n",
       " {'sequence': 'IQVIA RDS Argentina S.R.L. representa en Argentina a \\r\\n1. Janssen Vaccines &amp; Prevention B.V.\\r\\n2. Pharma B.V.\\r\\n3. AstraZeneca AB\\r\\n4. Amgen Inc.\\r\\n\\r\\nACALABRUTINIB\\r\\nApremilast\\r\\nLanadelumab\\r\\nAbatacept-remdesivir-infliximab-mesilato de cenicriviroc\\r\\n\\r\\nhttps://t.co/KuRUk5RKIY\\r\\n\\r\\ncc:  @spitta1969',\n",
       "  'labels': ['negative', 'positive'],\n",
       "  'scores': [0.8105578422546387, 0.18944217264652252]},\n",
       " {'sequence': 'Maria, we appreciate you!\\r\\nOur group has passed 4 FDA inspections. In 2013, we led Ibrutinib FDA approval; in 2017, we led acalabrutinib FDA approval and in 2020, we led Brexucarbatagene Autoleucel FDA approval. Without your leadership and our wonderful team, not possible! https://t.co/FPUMj4qaq2',\n",
       "  'labels': ['positive', 'negative'],\n",
       "  'scores': [0.8873845338821411, 0.11261546611785889]},\n",
       " {'sequence': 'The role of acalabrutinib in adults with chronic lymphocytic leukemia https://t.co/xv81it4zeO',\n",
       "  'labels': ['positive', 'negative'],\n",
       "  'scores': [0.7677052021026611, 0.23229485750198364]},\n",
       " {'sequence': 'The role of acalabrutinib in adults with chronic lymphocytic leukemia #lymphoma #lymsm https://t.co/LVp7uro7so',\n",
       "  'labels': ['positive', 'negative'],\n",
       "  'scores': [0.6743369102478027, 0.3256630599498749]},\n",
       " {'sequence': 'New article: The role of acalabrutinib in adults with chronic lymphocytic leukemia https://t.co/XRlUn5eVpU #CLL #leusm #hematology',\n",
       "  'labels': ['positive', 'negative'],\n",
       "  'scores': [0.7455465197563171, 0.25445348024368286]},\n",
       " {'sequence': 'The role of acalabrutinib in adults with chronic lymphocytic leukemia. https://t.co/aPrU50bG9R',\n",
       "  'labels': ['positive', 'negative'],\n",
       "  'scores': [0.8141317367553711, 0.1858682781457901]},\n",
       " {'sequence': 'New article: The role of acalabrutinib in adults with chronic lymphocytic leukemia. https://t.co/YAnuxMbr89 #CLL #leusm #hematology',\n",
       "  'labels': ['positive', 'negative'],\n",
       "  'scores': [0.7105156779289246, 0.2894843518733978]},\n",
       " {'sequence': 'The role of CD20 in addition to BTK inhibitors is not a closed story.  We previously published obinutuzumab benefit with acalabrutinib (https://t.co/klsjuwWfDM).  \\r\\n\\r\\nNow we show, Ublituximab to Ibrutinib has benefit in 17P #TGTherapeutics @anthonymatomd \\r\\n\\r\\nhttps://t.co/l7qRcv0uDS',\n",
       "  'labels': ['positive', 'negative'],\n",
       "  'scores': [0.8593187928199768, 0.140681192278862]},\n",
       " {'sequence': 'New clinical trial: Acalabrutinib and Rituximab for the Treatment of Previously Untreated Mantle Cell Lymphoma https://t.co/KpdyK3KvOO #MCL #lymsm #hematology',\n",
       "  'labels': ['positive', 'negative'],\n",
       "  'scores': [0.9401201009750366, 0.05987992510199547]},\n",
       " {'sequence': 'Acalabrutinib alcanza el objetivo primario de eficacia en comparaciÃ³n con ibrutinib en LLC @AstraZenecaES       \\r\\n https://t.co/4VTn1Bsx5O',\n",
       "  'labels': ['positive', 'negative'],\n",
       "  'scores': [0.935319185256958, 0.06468082964420319]},\n",
       " {'sequence': \"Physician Views Preview: Digging into the impressive US launch of AstraZeneca's Calquence $AZN https://t.co/MV4LVMUuQb\",\n",
       "  'labels': ['positive', 'negative'],\n",
       "  'scores': [0.9376073479652405, 0.06239261105656624]},\n",
       " {'sequence': '#ICYMI: Overall, the phase 3 ELEVATE-RR trial demonstrated efficacy of acalabrutinib and a safety and tolerability profile that with was consistent with that observed in the broader acalabrutinib clinical development program.\\r\\nhttps://t.co/m89J49LBfC',\n",
       "  'labels': ['positive', 'negative'],\n",
       "  'scores': [0.9492952227592468, 0.05070473998785019]},\n",
       " {'sequence': 'CLL Research: Acalabrutinib â\\x80\\x93 An Analysis of CardiovascularÂ\\xa0Events https://t.co/sPoUZ0fDnp',\n",
       "  'labels': ['positive', 'negative'],\n",
       "  'scores': [0.6745722889900208, 0.32542768120765686]},\n",
       " {'sequence': 'Comparing acalabrutinib to standard treatments in patients with chronic lymphocytic l... https://t.co/tLXIunsT1a via @medivizor #Leukemia',\n",
       "  'labels': ['positive', 'negative'],\n",
       "  'scores': [0.7363435626029968, 0.2636564373970032]},\n",
       " {'sequence': 'MCL Survival Likely Affected by Reason for AcalabrutinibÂ\\xa0Discontinuation https://t.co/HSJCzH0Kq2',\n",
       "  'labels': ['negative', 'positive'],\n",
       "  'scores': [0.7594466209411621, 0.24055339395999908]},\n",
       " {'sequence': 'Mantle Cell Lymphoma Survival Likely Affected by Reason for Acalabrutinib Discontinuation: https://t.co/CBfJM8GhPy https://t.co/plFzmtrPzO',\n",
       "  'labels': ['negative', 'positive'],\n",
       "  'scores': [0.7633517980575562, 0.23664826154708862]}]"
      ]
     },
     "execution_count": 24,
     "metadata": {},
     "output_type": "execute_result"
    }
   ],
   "source": [
    "sent"
   ]
  },
  {
   "cell_type": "markdown",
   "metadata": {},
   "source": [
    "### Converting the result into DataFrame with the maximum score"
   ]
  },
  {
   "cell_type": "code",
   "execution_count": 25,
   "metadata": {
    "execution": {
     "iopub.execute_input": "2022-07-30T21:22:58.512006Z",
     "iopub.status.busy": "2022-07-30T21:22:58.511275Z",
     "iopub.status.idle": "2022-07-30T21:22:59.653480Z",
     "shell.execute_reply": "2022-07-30T21:22:59.652737Z",
     "shell.execute_reply.started": "2022-07-30T21:22:58.511945Z"
    }
   },
   "outputs": [],
   "source": [
    "output = []\n",
    "\n",
    "filter_key1 = ['labels']\n",
    "filter_key2 = ['scores']\n",
    "\n",
    "for index, row in df_head.iterrows():\n",
    "  d = {}\n",
    "  seq = row['tweet_text']\n",
    "  result = classifier(seq, sentiment_labels)\n",
    " # print(result)\n",
    "  temp_label = list(map(result.get, filter_key1))\n",
    "  temp_score = list(map(result.get, filter_key2))\n",
    " # print(temp)\n",
    "  d['tweet_text'] = row['tweet_text']\n",
    "  d['label'] = temp_label[0][0]\n",
    "  d['score'] = temp_score[0][0]\n",
    "  output.append(d) \n"
   ]
  },
  {
   "cell_type": "code",
   "execution_count": 26,
   "metadata": {
    "execution": {
     "iopub.execute_input": "2022-07-30T21:22:59.655426Z",
     "iopub.status.busy": "2022-07-30T21:22:59.655161Z",
     "iopub.status.idle": "2022-07-30T21:22:59.669511Z",
     "shell.execute_reply": "2022-07-30T21:22:59.668834Z",
     "shell.execute_reply.started": "2022-07-30T21:22:59.655393Z"
    }
   },
   "outputs": [
    {
     "data": {
      "text/html": [
       "<div>\n",
       "<style scoped>\n",
       "    .dataframe tbody tr th:only-of-type {\n",
       "        vertical-align: middle;\n",
       "    }\n",
       "\n",
       "    .dataframe tbody tr th {\n",
       "        vertical-align: top;\n",
       "    }\n",
       "\n",
       "    .dataframe thead th {\n",
       "        text-align: right;\n",
       "    }\n",
       "</style>\n",
       "<table border=\"1\" class=\"dataframe\">\n",
       "  <thead>\n",
       "    <tr style=\"text-align: right;\">\n",
       "      <th></th>\n",
       "      <th>tweet_text</th>\n",
       "      <th>label</th>\n",
       "      <th>score</th>\n",
       "    </tr>\n",
       "  </thead>\n",
       "  <tbody>\n",
       "    <tr>\n",
       "      <th>0</th>\n",
       "      <td>âï¸ Scientists conducted a Phase II study o...</td>\n",
       "      <td>positive</td>\n",
       "      <td>0.867832</td>\n",
       "    </tr>\n",
       "    <tr>\n",
       "      <th>1</th>\n",
       "      <td>This phase 2 Acalabrutinib-Venetoclax (AV) tri...</td>\n",
       "      <td>positive</td>\n",
       "      <td>0.604246</td>\n",
       "    </tr>\n",
       "    <tr>\n",
       "      <th>2</th>\n",
       "      <td>#NICE backs #AstraZenecas #Calquence for #CLL ...</td>\n",
       "      <td>positive</td>\n",
       "      <td>0.993731</td>\n",
       "    </tr>\n",
       "    <tr>\n",
       "      <th>3</th>\n",
       "      <td>#acalabrutinib is a valuable option in pts int...</td>\n",
       "      <td>positive</td>\n",
       "      <td>0.900355</td>\n",
       "    </tr>\n",
       "    <tr>\n",
       "      <th>4</th>\n",
       "      <td>NICE has recommended the use of acalabrutinib ...</td>\n",
       "      <td>positive</td>\n",
       "      <td>0.902079</td>\n",
       "    </tr>\n",
       "    <tr>\n",
       "      <th>5</th>\n",
       "      <td>NICE backs AstraZenecaâs Calquence for CLL h...</td>\n",
       "      <td>positive</td>\n",
       "      <td>0.971618</td>\n",
       "    </tr>\n",
       "    <tr>\n",
       "      <th>6</th>\n",
       "      <td>This is England for now - these decisions usua...</td>\n",
       "      <td>negative</td>\n",
       "      <td>0.881994</td>\n",
       "    </tr>\n",
       "    <tr>\n",
       "      <th>7</th>\n",
       "      <td>AstraZenecaâs Calquence (acalabrutinib), a c...</td>\n",
       "      <td>negative</td>\n",
       "      <td>0.775089</td>\n",
       "    </tr>\n",
       "    <tr>\n",
       "      <th>8</th>\n",
       "      <td>Superstar @tobyeyre82 responding to the excell...</td>\n",
       "      <td>positive</td>\n",
       "      <td>0.994777</td>\n",
       "    </tr>\n",
       "    <tr>\n",
       "      <th>9</th>\n",
       "      <td>CLL patients all know the drug Ibrutinib and y...</td>\n",
       "      <td>negative</td>\n",
       "      <td>0.886406</td>\n",
       "    </tr>\n",
       "    <tr>\n",
       "      <th>10</th>\n",
       "      <td>Optimal Management of High-Risk CLL with Acala...</td>\n",
       "      <td>positive</td>\n",
       "      <td>0.600332</td>\n",
       "    </tr>\n",
       "    <tr>\n",
       "      <th>11</th>\n",
       "      <td>Acalabrutinib for all forms of CLL, NICE today...</td>\n",
       "      <td>positive</td>\n",
       "      <td>0.994668</td>\n",
       "    </tr>\n",
       "    <tr>\n",
       "      <th>12</th>\n",
       "      <td>It has been announced today (Thursday 18th Mar...</td>\n",
       "      <td>positive</td>\n",
       "      <td>0.904769</td>\n",
       "    </tr>\n",
       "    <tr>\n",
       "      <th>13</th>\n",
       "      <td>NICE has recommended the use of acalabrutinib,...</td>\n",
       "      <td>negative</td>\n",
       "      <td>0.768219</td>\n",
       "    </tr>\n",
       "    <tr>\n",
       "      <th>14</th>\n",
       "      <td>A brand new oral treatment, Acalabrutinib, tak...</td>\n",
       "      <td>positive</td>\n",
       "      <td>0.859681</td>\n",
       "    </tr>\n",
       "    <tr>\n",
       "      <th>15</th>\n",
       "      <td>NICE backs AstraZenecaâs Calquence for CLL h...</td>\n",
       "      <td>positive</td>\n",
       "      <td>0.934221</td>\n",
       "    </tr>\n",
       "    <tr>\n",
       "      <th>16</th>\n",
       "      <td>NICE backs AstraZenecaâs Calquence for CLL h...</td>\n",
       "      <td>positive</td>\n",
       "      <td>0.931988</td>\n",
       "    </tr>\n",
       "    <tr>\n",
       "      <th>17</th>\n",
       "      <td>NICE backs AstraZenecaâs Calquence for CLL h...</td>\n",
       "      <td>positive</td>\n",
       "      <td>0.945037</td>\n",
       "    </tr>\n",
       "    <tr>\n",
       "      <th>18</th>\n",
       "      <td>NICE backs AstraZenecaâs Calquence for CLL h...</td>\n",
       "      <td>positive</td>\n",
       "      <td>0.935929</td>\n",
       "    </tr>\n",
       "    <tr>\n",
       "      <th>19</th>\n",
       "      <td>NICE backs AstraZenecaâs Calquence for CLL h...</td>\n",
       "      <td>positive</td>\n",
       "      <td>0.941713</td>\n",
       "    </tr>\n",
       "    <tr>\n",
       "      <th>20</th>\n",
       "      <td>NICE backs AstraZenecaâs Calquence for CLL h...</td>\n",
       "      <td>positive</td>\n",
       "      <td>0.960638</td>\n",
       "    </tr>\n",
       "    <tr>\n",
       "      <th>21</th>\n",
       "      <td>New article: Phase 2 study of acalabrutinib in...</td>\n",
       "      <td>positive</td>\n",
       "      <td>0.882578</td>\n",
       "    </tr>\n",
       "    <tr>\n",
       "      <th>22</th>\n",
       "      <td>TARGETED ORAL MONOTHERAPY CALQUENCE (ACALABRUT...</td>\n",
       "      <td>positive</td>\n",
       "      <td>0.687052</td>\n",
       "    </tr>\n",
       "    <tr>\n",
       "      <th>23</th>\n",
       "      <td>As the UK approve new treatments for #CLL with...</td>\n",
       "      <td>negative</td>\n",
       "      <td>0.978557</td>\n",
       "    </tr>\n",
       "    <tr>\n",
       "      <th>24</th>\n",
       "      <td>.@NICEComms backs NHS use for @AstraZenecaâs...</td>\n",
       "      <td>positive</td>\n",
       "      <td>0.971939</td>\n",
       "    </tr>\n",
       "    <tr>\n",
       "      <th>25</th>\n",
       "      <td>#Acalabrutinib @NICEComms approved for 1L #CLL...</td>\n",
       "      <td>positive</td>\n",
       "      <td>0.779682</td>\n",
       "    </tr>\n",
       "    <tr>\n",
       "      <th>26</th>\n",
       "      <td>Safety and Antitumor Activity of Acalabrutinib...</td>\n",
       "      <td>positive</td>\n",
       "      <td>0.862725</td>\n",
       "    </tr>\n",
       "    <tr>\n",
       "      <th>27</th>\n",
       "      <td>New article: Safety and Antitumor Activity of ...</td>\n",
       "      <td>positive</td>\n",
       "      <td>0.775110</td>\n",
       "    </tr>\n",
       "    <tr>\n",
       "      <th>28</th>\n",
       "      <td>Congress| #EBMT21 | @michaelwangmd, @MDAnderso...</td>\n",
       "      <td>positive</td>\n",
       "      <td>0.796894</td>\n",
       "    </tr>\n",
       "    <tr>\n",
       "      <th>29</th>\n",
       "      <td>New2Trip: Acalabrutinib (Calquence) for treatm...</td>\n",
       "      <td>positive</td>\n",
       "      <td>0.918580</td>\n",
       "    </tr>\n",
       "  </tbody>\n",
       "</table>\n",
       "</div>"
      ],
      "text/plain": [
       "                                           tweet_text     label     score\n",
       "0   âï¸ Scientists conducted a Phase II study o...  positive  0.867832\n",
       "1   This phase 2 Acalabrutinib-Venetoclax (AV) tri...  positive  0.604246\n",
       "2   #NICE backs #AstraZenecas #Calquence for #CLL ...  positive  0.993731\n",
       "3   #acalabrutinib is a valuable option in pts int...  positive  0.900355\n",
       "4   NICE has recommended the use of acalabrutinib ...  positive  0.902079\n",
       "5   NICE backs AstraZenecaâs Calquence for CLL h...  positive  0.971618\n",
       "6   This is England for now - these decisions usua...  negative  0.881994\n",
       "7   AstraZenecaâs Calquence (acalabrutinib), a c...  negative  0.775089\n",
       "8   Superstar @tobyeyre82 responding to the excell...  positive  0.994777\n",
       "9   CLL patients all know the drug Ibrutinib and y...  negative  0.886406\n",
       "10  Optimal Management of High-Risk CLL with Acala...  positive  0.600332\n",
       "11  Acalabrutinib for all forms of CLL, NICE today...  positive  0.994668\n",
       "12  It has been announced today (Thursday 18th Mar...  positive  0.904769\n",
       "13  NICE has recommended the use of acalabrutinib,...  negative  0.768219\n",
       "14  A brand new oral treatment, Acalabrutinib, tak...  positive  0.859681\n",
       "15  NICE backs AstraZenecaâs Calquence for CLL h...  positive  0.934221\n",
       "16  NICE backs AstraZenecaâs Calquence for CLL h...  positive  0.931988\n",
       "17  NICE backs AstraZenecaâs Calquence for CLL h...  positive  0.945037\n",
       "18  NICE backs AstraZenecaâs Calquence for CLL h...  positive  0.935929\n",
       "19  NICE backs AstraZenecaâs Calquence for CLL h...  positive  0.941713\n",
       "20  NICE backs AstraZenecaâs Calquence for CLL h...  positive  0.960638\n",
       "21  New article: Phase 2 study of acalabrutinib in...  positive  0.882578\n",
       "22  TARGETED ORAL MONOTHERAPY CALQUENCE (ACALABRUT...  positive  0.687052\n",
       "23  As the UK approve new treatments for #CLL with...  negative  0.978557\n",
       "24  .@NICEComms backs NHS use for @AstraZenecaâs...  positive  0.971939\n",
       "25  #Acalabrutinib @NICEComms approved for 1L #CLL...  positive  0.779682\n",
       "26  Safety and Antitumor Activity of Acalabrutinib...  positive  0.862725\n",
       "27  New article: Safety and Antitumor Activity of ...  positive  0.775110\n",
       "28  Congress| #EBMT21 | @michaelwangmd, @MDAnderso...  positive  0.796894\n",
       "29  New2Trip: Acalabrutinib (Calquence) for treatm...  positive  0.918580"
      ]
     },
     "execution_count": 26,
     "metadata": {},
     "output_type": "execute_result"
    }
   ],
   "source": [
    " new = pd.DataFrame(output)\n",
    " new"
   ]
  },
  {
   "cell_type": "code",
   "execution_count": 27,
   "metadata": {},
   "outputs": [],
   "source": [
    "new.to_csv('objective2.csv')"
   ]
  },
  {
   "cell_type": "code",
   "execution_count": null,
   "metadata": {},
   "outputs": [],
   "source": []
  }
 ],
 "metadata": {
  "kernelspec": {
   "display_name": "Python 3",
   "language": "python",
   "name": "python3"
  },
  "language_info": {
   "codemirror_mode": {
    "name": "ipython",
    "version": 3
   },
   "file_extension": ".py",
   "mimetype": "text/x-python",
   "name": "python",
   "nbconvert_exporter": "python",
   "pygments_lexer": "ipython3",
   "version": "3.8.8"
  }
 },
 "nbformat": 4,
 "nbformat_minor": 4
}
